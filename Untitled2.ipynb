{
 "cells": [
  {
   "cell_type": "code",
   "execution_count": 19,
   "metadata": {},
   "outputs": [],
   "source": [
    "import mysql.connector\n",
    "#importing database\n",
    "database = mysql.connector.connect(\n",
    "    host=\"localhost\",\n",
    "    user=\"root\",\n",
    "    password=\"\",\n",
    "    database = \"class8am\"\n",
    ")\n",
    "db = database.cursor() \n"
   ]
  },
  {
   "cell_type": "code",
   "execution_count": 3,
   "metadata": {},
   "outputs": [
    {
     "name": "stdout",
     "output_type": "stream",
     "text": [
      "(1, 'Momo', 100, 3, 300)\n",
      "(2, 'coke', 50, 2, 100)\n",
      "(3, 'Chowmin', 150, 1, 150)\n",
      "(4, 'fanta', 60, 2, 120)\n"
     ]
    }
   ],
   "source": [
    "db.execute(\"SELECT * FROM bill\")\n",
    "result =db.fetchall()\n",
    "for x in result:\n",
    "    print(x)\n"
   ]
  },
  {
   "cell_type": "code",
   "execution_count": 5,
   "metadata": {},
   "outputs": [
    {
     "name": "stdout",
     "output_type": "stream",
     "text": [
      "('Momo', 100)\n",
      "('coke', 50)\n",
      "('Chowmin', 150)\n",
      "('fanta', 60)\n"
     ]
    }
   ],
   "source": [
    "db.execute(\"SELECT name,price FROM bill\")\n",
    "result =db.fetchall()\n",
    "for x in result:\n",
    "    print(x)\n"
   ]
  },
  {
   "cell_type": "code",
   "execution_count": 6,
   "metadata": {},
   "outputs": [
    {
     "name": "stdout",
     "output_type": "stream",
     "text": [
      "(1, 'Momo', 100, 3, 300)\n",
      "(3, 'Chowmin', 150, 1, 150)\n",
      "(4, 'fanta', 60, 2, 120)\n"
     ]
    }
   ],
   "source": [
    "db.execute(\"SELECT * FROM bill WHERE price >50\")\n",
    "result =db.fetchall()\n",
    "for x in result:\n",
    "    print(x)\n"
   ]
  },
  {
   "cell_type": "code",
   "execution_count": 7,
   "metadata": {},
   "outputs": [
    {
     "name": "stdout",
     "output_type": "stream",
     "text": [
      "('Momo', 100)\n",
      "('Chowmin', 150)\n",
      "('fanta', 60)\n"
     ]
    }
   ],
   "source": [
    "db.execute(\"SELECT name,price FROM bill WHERE price >50\")\n",
    "result =db.fetchall()\n",
    "for x in result:\n",
    "    print(x)\n"
   ]
  },
  {
   "cell_type": "code",
   "execution_count": 8,
   "metadata": {},
   "outputs": [],
   "source": [
    "db.execute(\"INSERT INTO bill(Sn, name, price, quantity, total) VALUES (5,'Pizza',300,2,600)\")\n",
    "database.commit()"
   ]
  },
  {
   "cell_type": "code",
   "execution_count": 9,
   "metadata": {},
   "outputs": [],
   "source": [
    "sn = 6\n",
    "name = \"Tea\"\n",
    "price = 20\n",
    "qty = 2\n",
    "total = 40\n",
    "\n",
    "db.execute(f\"INSERT INTO bill(Sn, name, price, quantity, total) VALUES ({sn},'{name}',{price},{qty},{total})\")\n",
    "database.commit()"
   ]
  },
  {
   "cell_type": "code",
   "execution_count": 2,
   "metadata": {},
   "outputs": [
    {
     "name": "stdout",
     "output_type": "stream",
     "text": [
      "Enter sn = 1\n",
      "Enter price = 200\n"
     ]
    }
   ],
   "source": [
    "sn = int(input(\"Enter sn = \"))\n",
    "\n",
    "price = int(input(\"Enter price = \"))\n",
    "\n",
    "\n",
    "db.execute(f\"UPDATE bill SET price = '{price}' WHERE Sn = '{sn}'\")\n",
    "database.commit()"
   ]
  },
  {
   "cell_type": "code",
   "execution_count": 10,
   "metadata": {},
   "outputs": [
    {
     "name": "stdout",
     "output_type": "stream",
     "text": [
      "Enter sn = 1\n",
      "Enter price = 110\n",
      "330\n",
      "UPDATE bill SET price = '110' , total = '330' WHERE Sn = '1'\n"
     ]
    }
   ],
   "source": [
    "sn = int(input(\"Enter sn = \"))\n",
    "price = int(input(\"Enter price = \"))\n",
    "\n",
    "def product():\n",
    "    db.execute(f\"SELECT quantity FROM bill WHERE Sn = {sn}\")\n",
    "    result =db.fetchall()\n",
    "    for x in result:\n",
    "        return x[0]\n",
    "\n",
    "total = price*product()\n",
    "print(total)\n",
    "sql = f\"UPDATE bill SET price = '{price}' , total = '{total}' WHERE Sn = '{sn}'\"\n",
    "print(sql)\n",
    "db.execute(sql)\n",
    "database.commit()"
   ]
  },
  {
   "cell_type": "code",
   "execution_count": 2,
   "metadata": {},
   "outputs": [
    {
     "name": "stdout",
     "output_type": "stream",
     "text": [
      "Enter sn = 6\n"
     ]
    }
   ],
   "source": [
    "sn = int(input(\"Enter sn = \"))\n",
    "\n",
    "\n",
    "\n",
    "db.execute(f\"DELETE FROM bill WHERE Sn = '{sn}'\")\n",
    "database.commit()"
   ]
  },
  {
   "cell_type": "code",
   "execution_count": 14,
   "metadata": {},
   "outputs": [
    {
     "name": "stdout",
     "output_type": "stream",
     "text": [
      "Enter name = momo\n",
      "(8, 'MoMo', 'Tuna-panzanella-salad-749x562.jpg', 'Choose...')\n",
      "(13, 'MoMo', 'tibetan-pema-restaurant.jpg', 'Nepali')\n",
      "(18, 'Special Soup MoMo', 'tibetan-pema-restaurant.jpg', 'Nepali')\n"
     ]
    }
   ],
   "source": [
    "name = input(\"Enter name = \")\n",
    "db.execute(f\"SELECT * FROM food_iteams WHERE iteams LIKE '%{name}%'\")\n",
    "result =db.fetchall()\n",
    "for x in result:\n",
    "    print(x)\n"
   ]
  },
  {
   "cell_type": "code",
   "execution_count": 21,
   "metadata": {},
   "outputs": [
    {
     "name": "stdout",
     "output_type": "stream",
     "text": [
      "Enter n = 2\n",
      "Enter food = Thukpa\n",
      "Enter price = 100\n",
      "Enter qty3\n",
      "Enter food = Chili Momo\n",
      "Enter price = 200\n",
      "Enter qty4\n"
     ]
    }
   ],
   "source": [
    "sn =6\n",
    "n = int(input(\"Enter n = \"))\n",
    "for i in range(n):\n",
    "    \n",
    "    name = input(\"Enter food = \")\n",
    "    price = int(input(\"Enter price = \"))\n",
    "    qty = int(input(\"Enter qty\"))\n",
    "    total = price*qty\n",
    "    db.execute(f\"INSERT INTO bill(Sn, name, price, quantity, total) VALUES ({sn},'{name}',{price},{qty},{total})\")\n",
    "    sn = sn+1\n",
    "database.commit()"
   ]
  },
  {
   "cell_type": "code",
   "execution_count": null,
   "metadata": {},
   "outputs": [],
   "source": []
  }
 ],
 "metadata": {
  "kernelspec": {
   "display_name": "Python 3",
   "language": "python",
   "name": "python3"
  },
  "language_info": {
   "codemirror_mode": {
    "name": "ipython",
    "version": 3
   },
   "file_extension": ".py",
   "mimetype": "text/x-python",
   "name": "python",
   "nbconvert_exporter": "python",
   "pygments_lexer": "ipython3",
   "version": "3.7.1"
  }
 },
 "nbformat": 4,
 "nbformat_minor": 2
}
