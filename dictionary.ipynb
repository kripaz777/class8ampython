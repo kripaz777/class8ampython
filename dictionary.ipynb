{
 "cells": [
  {
   "cell_type": "code",
   "execution_count": 1,
   "metadata": {},
   "outputs": [
    {
     "name": "stdout",
     "output_type": "stream",
     "text": [
      "<class 'dict'>\n"
     ]
    }
   ],
   "source": [
    "d = {}\n",
    "print(type(d))"
   ]
  },
  {
   "cell_type": "code",
   "execution_count": 4,
   "metadata": {},
   "outputs": [
    {
     "name": "stdout",
     "output_type": "stream",
     "text": [
      "apple\n"
     ]
    }
   ],
   "source": [
    "# d = {<key>:<value>,<key>:<velue>}\n",
    "d = {\"a\":\"apple\",\"b\":\"ball\"}\n",
    "print(d[\"a\"])"
   ]
  },
  {
   "cell_type": "code",
   "execution_count": 5,
   "metadata": {},
   "outputs": [],
   "source": [
    "# Dictinary\n",
    "# -Indexing\n",
    "# -Duplicate members\n",
    "# -No duplicate index\n",
    "# -Ordered\n",
    "# -Mutable Datatype"
   ]
  },
  {
   "cell_type": "code",
   "execution_count": 6,
   "metadata": {},
   "outputs": [
    {
     "name": "stdout",
     "output_type": "stream",
     "text": [
      "apple\n"
     ]
    }
   ],
   "source": [
    "d = {\"a\":\"apple\",\"b\":\"ball\"}\n",
    "print(d[\"a\"])"
   ]
  },
  {
   "cell_type": "code",
   "execution_count": 7,
   "metadata": {},
   "outputs": [
    {
     "name": "stdout",
     "output_type": "stream",
     "text": [
      "apple\n"
     ]
    }
   ],
   "source": [
    "d = {\"a\":\"apple\",\"b\":\"ball\",\"A\":\"apple\"}\n",
    "print(d[\"a\"])"
   ]
  },
  {
   "cell_type": "code",
   "execution_count": 9,
   "metadata": {},
   "outputs": [
    {
     "name": "stdout",
     "output_type": "stream",
     "text": [
      "{'a': 'ant', 'b': 'ball'}\n"
     ]
    }
   ],
   "source": [
    "d = {\"a\":\"apple\",\"b\":\"ball\",\"a\":\"ant\"}\n",
    "print(d)"
   ]
  },
  {
   "cell_type": "code",
   "execution_count": 11,
   "metadata": {},
   "outputs": [
    {
     "name": "stdout",
     "output_type": "stream",
     "text": [
      "{'b': 'ball', '1a': 'ant'}\n"
     ]
    }
   ],
   "source": [
    "d = {\"b\":\"ball\",\"a\":\"ant\"}\n",
    "print(d)"
   ]
  },
  {
   "cell_type": "code",
   "execution_count": 16,
   "metadata": {},
   "outputs": [
    {
     "name": "stdout",
     "output_type": "stream",
     "text": [
      "{'a': 'Apple', 'b': 'Ball', 'c': 'Cat'}\n"
     ]
    }
   ],
   "source": [
    "d = {}\n",
    "d[\"a\"] = \"Apple\"\n",
    "d[\"b\"] = \"Ball\"\n",
    "d[\"c\"] = \"Cat\"\n",
    "print(d)"
   ]
  },
  {
   "cell_type": "code",
   "execution_count": 17,
   "metadata": {},
   "outputs": [
    {
     "data": {
      "text/plain": [
       "{'a': 'Ant', 'b': 'Ball', 'c': 'Cat'}"
      ]
     },
     "execution_count": 17,
     "metadata": {},
     "output_type": "execute_result"
    }
   ],
   "source": [
    "d = {'a': 'Apple', 'b': 'Ball', 'c': 'Cat'}\n",
    "d[\"a\"] = \"Ant\"\n",
    "d"
   ]
  },
  {
   "cell_type": "code",
   "execution_count": 18,
   "metadata": {},
   "outputs": [
    {
     "name": "stdout",
     "output_type": "stream",
     "text": [
      "Enter n = 2\n",
      "Enter name = Ram\n",
      "Enter phone = 9856554543\n",
      "Enter name = Shyam\n",
      "Enter phone = 9807543432\n",
      "{'Ram': 9856554543, 'Shyam': 9807543432}\n"
     ]
    }
   ],
   "source": [
    "info = {}\n",
    "n = int(input(\"Enter n = \"))\n",
    "for i in range(n):\n",
    "    name = input(\"Enter name = \")\n",
    "    phone = int(input(\"Enter phone = \"))\n",
    "    key = name\n",
    "    value = phone\n",
    "    info[key]=value\n",
    "    \n",
    "print(info)"
   ]
  },
  {
   "cell_type": "code",
   "execution_count": 19,
   "metadata": {},
   "outputs": [
    {
     "data": {
      "text/plain": [
       "{'a': 'Apple', 'b': 'Ball'}"
      ]
     },
     "execution_count": 19,
     "metadata": {},
     "output_type": "execute_result"
    }
   ],
   "source": [
    "a = [(\"a\",\"Apple\"),(\"b\",\"Ball\")]\n",
    "dict(a)"
   ]
  },
  {
   "cell_type": "code",
   "execution_count": 20,
   "metadata": {},
   "outputs": [
    {
     "name": "stdout",
     "output_type": "stream",
     "text": [
      "Ram\n",
      "Shyam\n"
     ]
    }
   ],
   "source": [
    "a = {'Ram': 9856554543, 'Shyam': 9807543432}\n",
    "for i in a:\n",
    "    print(i)"
   ]
  },
  {
   "cell_type": "code",
   "execution_count": 21,
   "metadata": {},
   "outputs": [
    {
     "name": "stdout",
     "output_type": "stream",
     "text": [
      "9856554543\n",
      "9807543432\n"
     ]
    }
   ],
   "source": [
    "a = {'Ram': 9856554543, 'Shyam': 9807543432}\n",
    "for i in a.values():\n",
    "    print(i)"
   ]
  },
  {
   "cell_type": "code",
   "execution_count": 22,
   "metadata": {},
   "outputs": [
    {
     "name": "stdout",
     "output_type": "stream",
     "text": [
      "('Ram', 9856554543)\n",
      "('Shyam', 9807543432)\n"
     ]
    }
   ],
   "source": [
    "a = {'Ram': 9856554543, 'Shyam': 9807543432}\n",
    "for i in a.items():\n",
    "    print(i)"
   ]
  },
  {
   "cell_type": "code",
   "execution_count": 24,
   "metadata": {},
   "outputs": [
    {
     "name": "stdout",
     "output_type": "stream",
     "text": [
      "{'Ram': 9856554543, 'Shyam': 9807543432, 'Hari': 9845443432}\n"
     ]
    }
   ],
   "source": [
    "a = {'Ram': 9856554543, 'Shyam': 9807543432}\n",
    "b = {\"Hari\":9845443432}\n",
    "a.update(b)\n",
    "print(a)"
   ]
  },
  {
   "cell_type": "code",
   "execution_count": 27,
   "metadata": {},
   "outputs": [
    {
     "data": {
      "text/plain": [
       "{'Shyam': 9807543432, 'Hari': 9845443432}"
      ]
     },
     "execution_count": 27,
     "metadata": {},
     "output_type": "execute_result"
    }
   ],
   "source": [
    "d = {'Ram': 9856554543, 'Shyam': 9807543432, 'Hari': 9845443432}\n",
    "del d[\"Ram\"]\n",
    "d"
   ]
  },
  {
   "cell_type": "code",
   "execution_count": 31,
   "metadata": {},
   "outputs": [
    {
     "name": "stdout",
     "output_type": "stream",
     "text": [
      "9856554543\n",
      "{'Shyam': 9807543432, 'Hari': 9845443432}\n"
     ]
    }
   ],
   "source": [
    "d = {'Ram': 9856554543, 'Shyam': 9807543432, 'Hari': 9845443432}\n",
    "print(d.pop(\"Ram\"))\n",
    "print(d)"
   ]
  },
  {
   "cell_type": "code",
   "execution_count": 32,
   "metadata": {},
   "outputs": [
    {
     "ename": "TypeError",
     "evalue": "unhashable type: 'list'",
     "output_type": "error",
     "traceback": [
      "\u001b[1;31m---------------------------------------------------------------------------\u001b[0m",
      "\u001b[1;31mTypeError\u001b[0m                                 Traceback (most recent call last)",
      "\u001b[1;32m<ipython-input-32-c6182f507eb0>\u001b[0m in \u001b[0;36m<module>\u001b[1;34m\u001b[0m\n\u001b[0;32m      1\u001b[0m \u001b[0md\u001b[0m \u001b[1;33m=\u001b[0m \u001b[1;33m{\u001b[0m\u001b[1;34m'Ram'\u001b[0m\u001b[1;33m:\u001b[0m \u001b[1;36m9856554543\u001b[0m\u001b[1;33m,\u001b[0m \u001b[1;34m'Shyam'\u001b[0m\u001b[1;33m:\u001b[0m \u001b[1;36m9807543432\u001b[0m\u001b[1;33m,\u001b[0m \u001b[1;34m'Hari'\u001b[0m\u001b[1;33m:\u001b[0m \u001b[1;36m9845443432\u001b[0m\u001b[1;33m}\u001b[0m\u001b[1;33m\u001b[0m\u001b[1;33m\u001b[0m\u001b[0m\n\u001b[1;32m----> 2\u001b[1;33m \u001b[0md\u001b[0m\u001b[1;33m=\u001b[0m \u001b[1;33m{\u001b[0m\u001b[1;33m[\u001b[0m\u001b[1;34m'Ram'\u001b[0m\u001b[1;33m]\u001b[0m\u001b[1;33m:\u001b[0m \u001b[1;36m9856554543\u001b[0m\u001b[1;33m,\u001b[0m \u001b[1;33m[\u001b[0m\u001b[1;34m'Shyam'\u001b[0m\u001b[1;33m]\u001b[0m\u001b[1;33m:\u001b[0m \u001b[1;36m9807543432\u001b[0m\u001b[1;33m,\u001b[0m \u001b[1;33m[\u001b[0m\u001b[1;34m'Hari'\u001b[0m\u001b[1;33m]\u001b[0m\u001b[1;33m:\u001b[0m \u001b[1;36m9845443432\u001b[0m\u001b[1;33m}\u001b[0m\u001b[1;33m\u001b[0m\u001b[1;33m\u001b[0m\u001b[0m\n\u001b[0m",
      "\u001b[1;31mTypeError\u001b[0m: unhashable type: 'list'"
     ]
    }
   ],
   "source": [
    "d = {'Ram': 9856554543, 'Shyam': 9807543432, 'Hari': 9845443432}\n",
    "d= {['Ram']: 9856554543, ['Shyam']: 9807543432, ['Hari']: 9845443432}"
   ]
  },
  {
   "cell_type": "code",
   "execution_count": 34,
   "metadata": {},
   "outputs": [
    {
     "data": {
      "text/plain": [
       "{('Ram',): 9856554543, ('Shyam',): 9807543432, ('Hari',): 9845443432}"
      ]
     },
     "execution_count": 34,
     "metadata": {},
     "output_type": "execute_result"
    }
   ],
   "source": [
    "d = {('Ram',): 9856554543, ('Shyam',): 9807543432, ('Hari',): 9845443432}\n",
    "d"
   ]
  },
  {
   "cell_type": "code",
   "execution_count": 37,
   "metadata": {},
   "outputs": [
    {
     "data": {
      "text/plain": [
       "{'Ram': [9841078765, 9808445439], 'Shyam': [9841006765, 9808445678]}"
      ]
     },
     "execution_count": 37,
     "metadata": {},
     "output_type": "execute_result"
    }
   ],
   "source": [
    "# list inside dict\n",
    "d = {\"Ram\":[9841078765,9808445439],\"Shyam\":[9841006765,9808445678]}\n",
    "d\n"
   ]
  },
  {
   "cell_type": "code",
   "execution_count": 38,
   "metadata": {},
   "outputs": [
    {
     "data": {
      "text/plain": [
       "[9841078765, 9808445439]"
      ]
     },
     "execution_count": 38,
     "metadata": {},
     "output_type": "execute_result"
    }
   ],
   "source": [
    "d = {\"Ram\":[9841078765,9808445439],\"Shyam\":[9841006765,9808445678]}\n",
    "d[\"Ram\"]"
   ]
  },
  {
   "cell_type": "code",
   "execution_count": 40,
   "metadata": {},
   "outputs": [
    {
     "data": {
      "text/plain": [
       "9841078765"
      ]
     },
     "execution_count": 40,
     "metadata": {},
     "output_type": "execute_result"
    }
   ],
   "source": [
    "d = {\"Ram\":[9841078765,9808445439],\"Shyam\":[9841006765,9808445678]}\n",
    "d[\"Ram\"][0]"
   ]
  },
  {
   "cell_type": "code",
   "execution_count": 43,
   "metadata": {},
   "outputs": [
    {
     "data": {
      "text/plain": [
       "{'Ram': [9841078765, 9808445439, 4489776], 'Shyam': [9841006765, 9808445678]}"
      ]
     },
     "execution_count": 43,
     "metadata": {},
     "output_type": "execute_result"
    }
   ],
   "source": [
    "d = {\"Ram\":[9841078765,9808445439],\"Shyam\":[9841006765,9808445678]}\n",
    "d[\"Ram\"].append(4489776)\n",
    "d"
   ]
  },
  {
   "cell_type": "code",
   "execution_count": 44,
   "metadata": {},
   "outputs": [
    {
     "data": {
      "text/plain": [
       "{'Ram': [9876554543, 9808445439], 'Shyam': [9841006765, 9808445678]}"
      ]
     },
     "execution_count": 44,
     "metadata": {},
     "output_type": "execute_result"
    }
   ],
   "source": [
    "d = {\"Ram\":[9841078765,9808445439],\"Shyam\":[9841006765,9808445678]}\n",
    "d[\"Ram\"][0] = 9876554543\n",
    "d"
   ]
  },
  {
   "cell_type": "code",
   "execution_count": 47,
   "metadata": {},
   "outputs": [
    {
     "name": "stdout",
     "output_type": "stream",
     "text": [
      "{'Ram': [9841078765, 9808445439], 'Shyam': [9841006765, 9808445678]}\n"
     ]
    }
   ],
   "source": [
    "a = {'Ram': [9841078765, 9808445439, 4489776], 'Shyam': [9841006765, 9808445678]}\n",
    "del a[\"Ram\"][2]\n",
    "print(a)"
   ]
  },
  {
   "cell_type": "code",
   "execution_count": 48,
   "metadata": {},
   "outputs": [
    {
     "name": "stdout",
     "output_type": "stream",
     "text": [
      "Enter n = 2\n",
      "Enter name = Ram\n",
      "Enter ntc = 9845443321\n",
      "Enter ncell =9808445675\n",
      "Enter name = Shyam\n",
      "Enter ntc = 9856445432\n",
      "Enter ncell =9806775654\n",
      "{'Ram': [9845443321, 9808445675], 'Shyam': [9856445432, 9806775654]}\n"
     ]
    }
   ],
   "source": [
    "d = {}\n",
    "n = int(input(\"Enter n = \"))\n",
    "for i in range(n):\n",
    "    name = input(\"Enter name = \")\n",
    "    ntc = int(input(\"Enter ntc = \"))\n",
    "    ncell = int(input(\"Enter ncell =\"))\n",
    "    d[name] = [ntc,ncell]\n",
    "    \n",
    "print(d)"
   ]
  },
  {
   "cell_type": "code",
   "execution_count": 1,
   "metadata": {},
   "outputs": [],
   "source": [
    "# list inside dict\n",
    "# dict inside list\n",
    "# dict inside dict\n",
    "# tuple inside dit\n",
    "# dict inside tuple"
   ]
  },
  {
   "cell_type": "code",
   "execution_count": 2,
   "metadata": {},
   "outputs": [
    {
     "name": "stdout",
     "output_type": "stream",
     "text": [
      "[{'name': 'Rita', 'age': 34, 'add': 'Patan'}, {'name': 'Sita', 'age': 34, 'add': 'Bara'}]\n"
     ]
    }
   ],
   "source": [
    "a = [{\"name\":\"Rita\",\"age\":34,\"add\":\"Patan\"},\n",
    "    {\"name\":\"Sita\",\"age\":34,\"add\":\"Bara\"}]\n",
    "print(a)"
   ]
  },
  {
   "cell_type": "code",
   "execution_count": 3,
   "metadata": {},
   "outputs": [
    {
     "name": "stdout",
     "output_type": "stream",
     "text": [
      "{'name': 'Rita', 'age': 34, 'add': 'Patan'}\n",
      "{'name': 'Sita', 'age': 34, 'add': 'Bara'}\n"
     ]
    }
   ],
   "source": [
    "for i in a:\n",
    "    print(i)"
   ]
  },
  {
   "cell_type": "code",
   "execution_count": 5,
   "metadata": {},
   "outputs": [
    {
     "data": {
      "text/plain": [
       "[{'name': 'Rita', 'age': 34, 'add': 'Patan'},\n",
       " {'name': 'Sita', 'age': 34, 'add': 'Bara'}]"
      ]
     },
     "execution_count": 5,
     "metadata": {},
     "output_type": "execute_result"
    }
   ],
   "source": [
    "a = [{\"name\":\"Rita\",\"age\":34,\"add\":\"Patan\"},\n",
    "    {\"name\":\"Sita\",\"age\":34,\"add\":\"Bara\"}]\n",
    "a"
   ]
  },
  {
   "cell_type": "code",
   "execution_count": 6,
   "metadata": {},
   "outputs": [
    {
     "name": "stdout",
     "output_type": "stream",
     "text": [
      "Enter n = 2\n",
      "Enter name = Ram\n",
      "Enter age = 34\n",
      "Enter add = Kathmandu\n",
      "Enter name = Shyam\n",
      "Enter age = 78\n",
      "Enter add = Bara\n",
      "[{'name': 'Ram', 'age': 34, 'add': 'Kathmandu'}, {'name': 'Shyam', 'age': 78, 'add': 'Bara'}]\n"
     ]
    }
   ],
   "source": [
    "l = []\n",
    "n = int(input(\"Enter n = \"))\n",
    "for i in range(n):\n",
    "    name = input(\"Enter name = \")\n",
    "    age = int(input(\"Enter age = \"))\n",
    "    add = input(\"Enter add = \")\n",
    "    d = {\"name\":name,\"age\":age,\"add\":add}\n",
    "    l.append(d)\n",
    "    \n",
    "print(l)"
   ]
  },
  {
   "cell_type": "code",
   "execution_count": 9,
   "metadata": {},
   "outputs": [
    {
     "data": {
      "text/plain": [
       "[{'name': 'Ram Prasad', 'age': 34, 'add': 'Kathmandu'},\n",
       " {'name': 'Shyam', 'age': 78, 'add': 'Bara'}]"
      ]
     },
     "execution_count": 9,
     "metadata": {},
     "output_type": "execute_result"
    }
   ],
   "source": [
    "a = [{'name': 'Ram', 'age': 34, 'add': 'Kathmandu'}, {'name': 'Shyam', 'age': 78, 'add': 'Bara'}]\n",
    "a[0][\"name\"] = \"Ram Prasad\"\n",
    "a"
   ]
  },
  {
   "cell_type": "code",
   "execution_count": 10,
   "metadata": {},
   "outputs": [
    {
     "data": {
      "text/plain": [
       "['name', 'age', 'add']"
      ]
     },
     "execution_count": 10,
     "metadata": {},
     "output_type": "execute_result"
    }
   ],
   "source": [
    "a = {'name': 'Ram', 'age': 34, 'add': 'Kathmandu'}\n",
    "list(a)"
   ]
  },
  {
   "cell_type": "code",
   "execution_count": 11,
   "metadata": {},
   "outputs": [
    {
     "data": {
      "text/plain": [
       "['Ram', 34, 'Kathmandu']"
      ]
     },
     "execution_count": 11,
     "metadata": {},
     "output_type": "execute_result"
    }
   ],
   "source": [
    "a = {'name': 'Ram', 'age': 34, 'add': 'Kathmandu'}\n",
    "list(a.values())"
   ]
  },
  {
   "cell_type": "code",
   "execution_count": 13,
   "metadata": {},
   "outputs": [
    {
     "data": {
      "text/plain": [
       "[('name', 'Ram'), ('age', 34), ('add', 'Kathmandu')]"
      ]
     },
     "execution_count": 13,
     "metadata": {},
     "output_type": "execute_result"
    }
   ],
   "source": [
    "a = {'name': 'Ram', 'age': 34, 'add': 'Kathmandu'}\n",
    "b = list(a.items())\n",
    "b"
   ]
  },
  {
   "cell_type": "code",
   "execution_count": 21,
   "metadata": {},
   "outputs": [
    {
     "data": {
      "text/plain": [
       "('Name', 'Ram')"
      ]
     },
     "execution_count": 21,
     "metadata": {},
     "output_type": "execute_result"
    }
   ],
   "source": [
    "c = b[0]\n",
    "d = list(c)\n",
    "d[0] = \"Name\"\n",
    "e = tuple(d)\n",
    "e"
   ]
  },
  {
   "cell_type": "code",
   "execution_count": 22,
   "metadata": {},
   "outputs": [
    {
     "data": {
      "text/plain": [
       "[('Name', 'Ram'), ('age', 34), ('add', 'Kathmandu')]"
      ]
     },
     "execution_count": 22,
     "metadata": {},
     "output_type": "execute_result"
    }
   ],
   "source": [
    "b[0] = e\n",
    "b"
   ]
  },
  {
   "cell_type": "code",
   "execution_count": 23,
   "metadata": {},
   "outputs": [
    {
     "data": {
      "text/plain": [
       "{'Name': 'Ram', 'age': 34, 'add': 'Kathmandu'}"
      ]
     },
     "execution_count": 23,
     "metadata": {},
     "output_type": "execute_result"
    }
   ],
   "source": [
    "dict(b)"
   ]
  },
  {
   "cell_type": "code",
   "execution_count": 25,
   "metadata": {},
   "outputs": [
    {
     "name": "stdout",
     "output_type": "stream",
     "text": [
      "(1, {'name': 'Ram', 'ntc': 9841234567, 'ncell': 9808445678})\n",
      "(2, {'name': 'Ram', 'ntc': 9841238976, 'ncell': 9808467543})\n"
     ]
    }
   ],
   "source": [
    "# dict inside dict\n",
    "# a = {'Ram': [9841078765, 9808445439], 'Shyam': [9841006765, 9808445678]}\n",
    "a = {1:{\"name\":\"Ram\",\"ntc\":9841234567,\"ncell\":9808445678},\n",
    "    2:{\"name\":\"Ram\",\"ntc\":9841238976,\"ncell\":9808467543}}\n",
    "for i in a.items():\n",
    "    print(i)"
   ]
  },
  {
   "cell_type": "code",
   "execution_count": 26,
   "metadata": {},
   "outputs": [
    {
     "name": "stdout",
     "output_type": "stream",
     "text": [
      "Enter n = 2\n",
      "Enter name = Ram\n",
      "Enter age = 78\n",
      "Enter add = Kathmandu\n",
      "Enter name = Ram\n",
      "Enter age = 45\n",
      "Enter add = Kathmandu\n",
      "[{'name': 'Ram', 'age': 34, 'add': 'Kathmandu'}, {'name': 'Shyam', 'age': 78, 'add': 'Bara'}]\n"
     ]
    }
   ],
   "source": [
    "info = {}\n",
    "n = int(input(\"Enter n = \"))\n",
    "for i in range(1,n+1):\n",
    "    name = input(\"Enter name = \")\n",
    "    age = int(input(\"Enter age = \"))\n",
    "    add = input(\"Enter add = \")\n",
    "    d = {\"name\":name,\"age\":age,\"add\":add}\n",
    "    info[i] = d\n",
    "    \n",
    "print(l)"
   ]
  },
  {
   "cell_type": "code",
   "execution_count": 27,
   "metadata": {},
   "outputs": [
    {
     "name": "stdout",
     "output_type": "stream",
     "text": [
      "{1: {'name': 'Ram', 'age': 78, 'add': 'Kathmandu'}, 2: {'name': 'Ram', 'age': 45, 'add': 'Kathmandu'}}\n"
     ]
    }
   ],
   "source": [
    "print(info)"
   ]
  },
  {
   "cell_type": "code",
   "execution_count": 28,
   "metadata": {},
   "outputs": [
    {
     "data": {
      "text/plain": [
       "{1: {'name': 'Ram', 'age': 78, 'add': 'Kathmandu'},\n",
       " 2: {'name': 'Ram', 'age': 45, 'add': 'Kathmandu'},\n",
       " 3: {'name': 'Shyam', 'age': 34, 'add': 'Patan'}}"
      ]
     },
     "execution_count": 28,
     "metadata": {},
     "output_type": "execute_result"
    }
   ],
   "source": [
    "a = {1: {'name': 'Ram', 'age': 78, 'add': 'Kathmandu'}, \n",
    "     2: {'name': 'Ram', 'age': 45, 'add': 'Kathmandu'}}\n",
    "a[3] = {\"name\":\"Shyam\",\"age\":34,\"add\":\"Patan\"}\n",
    "a"
   ]
  },
  {
   "cell_type": "code",
   "execution_count": 31,
   "metadata": {},
   "outputs": [
    {
     "data": {
      "text/plain": [
       "{1: {'name': 'Ram Prasad', 'age': 78, 'add': 'Kathmandu'},\n",
       " 2: {'name': 'Ram', 'age': 45, 'add': 'Kathmandu'},\n",
       " 3: {'name': 'Shyam', 'age': 34, 'add': 'Patan'}}"
      ]
     },
     "execution_count": 31,
     "metadata": {},
     "output_type": "execute_result"
    }
   ],
   "source": [
    "a = {1: {'name': 'Ram', 'age': 78, 'add': 'Kathmandu'},\n",
    " 2: {'name': 'Ram', 'age': 45, 'add': 'Kathmandu'},\n",
    " 3: {'name': 'Shyam', 'age': 34, 'add': 'Patan'}}\n",
    "a[1][\"name\"] = \"Ram Prasad\"\n",
    "a"
   ]
  },
  {
   "cell_type": "code",
   "execution_count": 32,
   "metadata": {},
   "outputs": [
    {
     "name": "stdout",
     "output_type": "stream",
     "text": [
      "{1: {'name': 'Ram Prasad', 'age': 78, 'add': 'Kathmandu'}, 2: {'name': 'Ram', 'age': 45, 'add': 'Kathmandu'}}\n"
     ]
    }
   ],
   "source": [
    "del a[3]\n",
    "print(a)"
   ]
  },
  {
   "cell_type": "code",
   "execution_count": null,
   "metadata": {},
   "outputs": [],
   "source": [
    "a = {'Ram': (9845443321, 9808445675), 'Shyam': (9856445432, 9806775654)}\n",
    "b = ({'name': 'Ram Prasad', 'age': 78, 'add': 'Kathmandu'},\n",
    "    {'name': 'Ram', 'age': 45, 'add': 'Kathmandu'},\n",
    "    {'name': 'Shyam', 'age': 34, 'add': 'Patan'})"
   ]
  },
  {
   "cell_type": "code",
   "execution_count": null,
   "metadata": {},
   "outputs": [],
   "source": [
    "# WAP for billing application using list,dict\n",
    "# WAP for result management system  using list,dict"
   ]
  }
 ],
 "metadata": {
  "kernelspec": {
   "display_name": "Python 3",
   "language": "python",
   "name": "python3"
  },
  "language_info": {
   "codemirror_mode": {
    "name": "ipython",
    "version": 3
   },
   "file_extension": ".py",
   "mimetype": "text/x-python",
   "name": "python",
   "nbconvert_exporter": "python",
   "pygments_lexer": "ipython3",
   "version": "3.7.1"
  }
 },
 "nbformat": 4,
 "nbformat_minor": 2
}
