{
 "cells": [
  {
   "cell_type": "code",
   "execution_count": 1,
   "metadata": {},
   "outputs": [],
   "source": [
    "# class A:\n",
    "#     <attributes>\n",
    "#     <methods>\n",
    "    \n",
    "# class(B):\n",
    "#     <attributes>\n",
    "#     <methods>"
   ]
  },
  {
   "cell_type": "code",
   "execution_count": 4,
   "metadata": {},
   "outputs": [
    {
     "name": "stdout",
     "output_type": "stream",
     "text": [
      "Hello world I am Ram I am from Kathmandu I am Kathmandu\n"
     ]
    }
   ],
   "source": [
    "class Profile:\n",
    "    def __init__(self,name,age,add):\n",
    "        self.name = name\n",
    "        self.age = age\n",
    "        self.add = add\n",
    "        \n",
    "class Hr(Profile):\n",
    "    def hr(self):\n",
    "        print(f\"Hello world I am {self.name} I am from {self.add} I am {self.add}\")\n",
    "        \n",
    "obj=Hr(\"Ram\",34,\"Kathmandu\")\n",
    "obj.hr()"
   ]
  },
  {
   "cell_type": "code",
   "execution_count": 2,
   "metadata": {},
   "outputs": [
    {
     "name": "stdout",
     "output_type": "stream",
     "text": [
      "Enter name =Ram\n",
      "Enter age = 34\n",
      "Enter address = Kathmandu\n",
      "Hello world I am Ram I am from Kathmandu I am Kathmandu\n"
     ]
    }
   ],
   "source": [
    "class Profile:\n",
    "    def __init__(self):\n",
    "        self.name = input(\"Enter name =\")\n",
    "        self.age = int(input(\"Enter age = \"))\n",
    "        self.add = input(\"Enter address = \")\n",
    "        \n",
    "    def profile(self):\n",
    "        print(self.name,self.age,self.add)\n",
    "        \n",
    "class Hr(Profile):\n",
    "    def hr(self):\n",
    "        print(f\"Hello world I am {self.name} I am from {self.add} I am {self.age}\")\n",
    "        \n",
    "obj=Hr()\n",
    "\n",
    "obj.hr()\n"
   ]
  },
  {
   "cell_type": "code",
   "execution_count": 1,
   "metadata": {},
   "outputs": [
    {
     "name": "stdout",
     "output_type": "stream",
     "text": [
      "Enter country =Nepal\n",
      "Enter name =Ram\n",
      "Enter age = 45\n",
      "Enter address = Kathmandu\n",
      "Hello world I am Ram I am from Kathmandu I am 45\n"
     ]
    }
   ],
   "source": [
    "class Profile:\n",
    "    def __init__(self):\n",
    "        self.name = input(\"Enter name =\")\n",
    "        self.age = int(input(\"Enter age = \"))\n",
    "        self.add = input(\"Enter address = \")\n",
    "        \n",
    "    def profile(self):\n",
    "        print(self.name,self.age,self.add)\n",
    "        \n",
    "class Hr(Profile):\n",
    "    def __init__(self):\n",
    "        self.country = input(\"Enter country =\")\n",
    "        Profile.__init__(self)\n",
    "        \n",
    "    def hr(self):\n",
    "        print(f\"Hello world I am {self.name} I am from {self.add} I am {self.age} my country is {country}\")\n",
    "        \n",
    "obj=Hr()\n",
    "\n",
    "obj.hr()\n"
   ]
  },
  {
   "cell_type": "code",
   "execution_count": 5,
   "metadata": {},
   "outputs": [
    {
     "name": "stdout",
     "output_type": "stream",
     "text": [
      "Enter country =Nepal\n",
      "Enter salary = 40000\n",
      "Enter name =Ram\n",
      "Enter age = 34\n",
      "Hello world I am Ram I am from Nepal I am 34 my salary is 40000\n"
     ]
    }
   ],
   "source": [
    "class Profile:\n",
    "    def __init__(self):\n",
    "        self.name = input(\"Enter name =\")\n",
    "        self.age = int(input(\"Enter age = \"))\n",
    "        \n",
    "class Account(Profile):\n",
    "    def __init__(self):\n",
    "        self.salary = int(input(\"Enter salary = \"))\n",
    "        \n",
    "class Hr(Account):\n",
    "    def __init__(self):\n",
    "        self.country = input(\"Enter country =\")\n",
    "        Account.__init__(self)\n",
    "        Profile.__init__(self)\n",
    "        \n",
    "    def hr(self):\n",
    "        print(f\"Hello world I am {self.name} I am from {self.country} I am {self.age} my salary is {self.salary}\")\n",
    "        \n",
    "obj=Hr()\n",
    "\n",
    "obj.hr()\n"
   ]
  },
  {
   "cell_type": "code",
   "execution_count": null,
   "metadata": {},
   "outputs": [],
   "source": [
    "class Profile:\n",
    "    def __init__(self):\n",
    "        self.name = input(\"Enter name =\")\n",
    "        self.age = int(input(\"Enter age = \"))\n",
    "        \n",
    "class Account:\n",
    "    def __init__(self):\n",
    "        self.salary = int(input(\"Enter salary = \"))\n",
    "        \n",
    "class Hr(Account,Profile):\n",
    "    def __init__(self):\n",
    "        self.country = input(\"Enter country =\")\n",
    "        Account.__init__(self)\n",
    "        Profile.__init__(self)\n",
    "        \n",
    "    def hr(self):\n",
    "        print(f\"Hello world I am {self.name} I am from {self.country} I am {self.age} my salary is {self.salary}\")\n",
    "        \n",
    "obj=Hr()\n",
    "\n",
    "obj.hr()\n"
   ]
  },
  {
   "cell_type": "code",
   "execution_count": 7,
   "metadata": {},
   "outputs": [
    {
     "name": "stdout",
     "output_type": "stream",
     "text": [
      "Enter name =dfgdgf\n",
      "Enter age = 34\n",
      "Enter address = fdgdfgd\n",
      "Hello world I am dfgdgf I am from fdgdfgd I am 34\n",
      "dfgdgf 34 fdgdfgd\n"
     ]
    }
   ],
   "source": [
    "class Profile:\n",
    "    def __init__(self):\n",
    "        self.name = input(\"Enter name =\")\n",
    "        self.age = int(input(\"Enter age = \"))\n",
    "        self.add = input(\"Enter address = \")\n",
    "        \n",
    "    def profile(self):\n",
    "        print(self.name,self.age,self.add)\n",
    "        \n",
    "class Hr(Profile):\n",
    "    def hr(self):\n",
    "        print(f\"Hello world I am {self.name} I am from {self.add} I am {self.age}\")\n",
    "        super().profile()\n",
    "        \n",
    "obj=Hr()\n",
    "\n",
    "obj.hr()\n"
   ]
  },
  {
   "cell_type": "code",
   "execution_count": 2,
   "metadata": {},
   "outputs": [
    {
     "data": {
      "text/plain": [
       "'Ram'"
      ]
     },
     "execution_count": 2,
     "metadata": {},
     "output_type": "execute_result"
    }
   ],
   "source": [
    "# Public attributes\n",
    "class Info:\n",
    "    def __init__(self,name,age,address):\n",
    "        self.name = name\n",
    "        self.address = address\n",
    "        self.age = age\n",
    "        \n",
    "obj = Info(\"Ram\",34,\"Kathmandu\")\n",
    "obj.name"
   ]
  },
  {
   "cell_type": "code",
   "execution_count": 4,
   "metadata": {},
   "outputs": [
    {
     "data": {
      "text/plain": [
       "'Ram'"
      ]
     },
     "execution_count": 4,
     "metadata": {},
     "output_type": "execute_result"
    }
   ],
   "source": [
    "# Protected attributes\n",
    "class Info:\n",
    "    def __init__(self,name,age,address):\n",
    "        self._name = name\n",
    "        self._address = address\n",
    "        self._age = age\n",
    "        \n",
    "obj = Info(\"Ram\",34,\"Kathmandu\")\n",
    "obj._name"
   ]
  },
  {
   "cell_type": "code",
   "execution_count": 5,
   "metadata": {},
   "outputs": [
    {
     "ename": "AttributeError",
     "evalue": "'Info' object has no attribute '__name'",
     "output_type": "error",
     "traceback": [
      "\u001b[1;31m---------------------------------------------------------------------------\u001b[0m",
      "\u001b[1;31mAttributeError\u001b[0m                            Traceback (most recent call last)",
      "\u001b[1;32m<ipython-input-5-a6caf4628cb9>\u001b[0m in \u001b[0;36m<module>\u001b[1;34m\u001b[0m\n\u001b[0;32m      7\u001b[0m \u001b[1;33m\u001b[0m\u001b[0m\n\u001b[0;32m      8\u001b[0m \u001b[0mobj\u001b[0m \u001b[1;33m=\u001b[0m \u001b[0mInfo\u001b[0m\u001b[1;33m(\u001b[0m\u001b[1;34m\"Ram\"\u001b[0m\u001b[1;33m,\u001b[0m\u001b[1;36m34\u001b[0m\u001b[1;33m,\u001b[0m\u001b[1;34m\"Kathmandu\"\u001b[0m\u001b[1;33m)\u001b[0m\u001b[1;33m\u001b[0m\u001b[1;33m\u001b[0m\u001b[0m\n\u001b[1;32m----> 9\u001b[1;33m \u001b[0mobj\u001b[0m\u001b[1;33m.\u001b[0m\u001b[0m__name\u001b[0m\u001b[1;33m\u001b[0m\u001b[1;33m\u001b[0m\u001b[0m\n\u001b[0m",
      "\u001b[1;31mAttributeError\u001b[0m: 'Info' object has no attribute '__name'"
     ]
    }
   ],
   "source": [
    "# Protected attributes\n",
    "class Info:\n",
    "    def __init__(self,name,age,address):\n",
    "        self.__name = name\n",
    "        self.__address = address\n",
    "        self.__age = age\n",
    "        \n",
    "obj = Info(\"Ram\",34,\"Kathmandu\")\n",
    "obj.__name"
   ]
  },
  {
   "cell_type": "code",
   "execution_count": 6,
   "metadata": {},
   "outputs": [
    {
     "data": {
      "text/plain": [
       "'Ram'"
      ]
     },
     "execution_count": 6,
     "metadata": {},
     "output_type": "execute_result"
    }
   ],
   "source": [
    "# Protected attributes\n",
    "class Info:\n",
    "    def __init__(self,name,age,address):\n",
    "        self.__name = name\n",
    "        self.__address = address\n",
    "        self.__age = age\n",
    "        \n",
    "obj = Info(\"Ram\",34,\"Kathmandu\")\n",
    "obj._Info__name"
   ]
  },
  {
   "cell_type": "code",
   "execution_count": 7,
   "metadata": {},
   "outputs": [
    {
     "name": "stdout",
     "output_type": "stream",
     "text": [
      "Enter name =Ram\n",
      "Enter age = 34\n",
      "Enter address = Kathmandu\n",
      "Hello world I am Ram I am 34\n"
     ]
    }
   ],
   "source": [
    "class Profile:\n",
    "    def __init__(self):\n",
    "        self.name = input(\"Enter name =\")\n",
    "        self._age = int(input(\"Enter age = \"))\n",
    "        self.__add = input(\"Enter address = \")\n",
    "        \n",
    "    def profile(self):\n",
    "        print(self.name,self.age,self.add)\n",
    "        \n",
    "class Hr(Profile):\n",
    "    def hr(self):\n",
    "        print(f\"Hello world I am {self.name} I am {self._age}\")\n",
    "        \n",
    "        \n",
    "obj=Hr()\n",
    "\n",
    "obj.hr()\n"
   ]
  },
  {
   "cell_type": "code",
   "execution_count": 8,
   "metadata": {},
   "outputs": [
    {
     "name": "stdout",
     "output_type": "stream",
     "text": [
      "Enter name =Ram\n",
      "Enter age = 34\n",
      "Enter address = Kathmandu\n",
      "Hello world I am Ram I am 34 I am form Kathmandu\n"
     ]
    }
   ],
   "source": [
    "class Profile:\n",
    "    def __init__(self):\n",
    "        self.name = input(\"Enter name =\")\n",
    "        self._age = int(input(\"Enter age = \"))\n",
    "        self.__add = input(\"Enter address = \")\n",
    "        \n",
    "    def profile(self):\n",
    "        print(self.name,self.age,self.add)\n",
    "        \n",
    "class Hr(Profile):\n",
    "    def hr(self):\n",
    "        print(f\"Hello world I am {self.name} I am {self._age} I am form {self._Profile__add}\")\n",
    "        \n",
    "        \n",
    "obj=Hr()\n",
    "\n",
    "obj.hr()\n"
   ]
  },
  {
   "cell_type": "code",
   "execution_count": null,
   "metadata": {},
   "outputs": [],
   "source": [
    "class Profile:\n",
    "    def __init__(self):\n",
    "        self.name = input(\"Enter name =\")\n",
    "        self.__age = int(input(\"Enter age = \"))\n",
    "        \n",
    "class Account:\n",
    "    def __init__(self):\n",
    "        self._salary = int(input(\"Enter salary = \"))\n",
    "        \n",
    "class Hr(Account,Profile):\n",
    "    def __init__(self):\n",
    "        self.__country = input(\"Enter country =\")\n",
    "        Account.__init__(self)\n",
    "        Profile.__init__(self)\n",
    "        \n",
    "    def hr(self):\n",
    "        print(f\"Hello world I am {self.name} I am from {self.__country} My salary is {self.salary}\")\n",
    "        \n",
    "obj=Hr()\n",
    "\n",
    "obj.hr()\n"
   ]
  },
  {
   "cell_type": "code",
   "execution_count": null,
   "metadata": {},
   "outputs": [],
   "source": [
    "class Parrot:\n",
    "    def fly(self):\n",
    "        print(\"Parrot can fly\")\n",
    "    def swim(self):\n",
    "        print(\"Parrot can't swim\")\n",
    "        \n",
    "class Penguin:\n",
    "    def fly(self):\n",
    "        print(\"Penguin can't fly\")\n",
    "    def swim(self):\n",
    "        print(\"Penguin can swim\")\n",
    "        \n",
    "# common interface\n",
    "def flying_test(bird):\n",
    "    bird.fly()\n",
    "\n",
    "blu = Parrot()\n",
    "peggy = Penguin()\n",
    "# passing the object\n",
    "flying_test(blu)\n",
    "flying_test(peggy)\n",
    "\n"
   ]
  },
  {
   "cell_type": "code",
   "execution_count": 9,
   "metadata": {},
   "outputs": [
    {
     "name": "stdout",
     "output_type": "stream",
     "text": [
      "Hello World\n"
     ]
    }
   ],
   "source": [
    "value = \"Hello World\"\n",
    "def outer_function(x):\n",
    "    \n",
    "    def inner_function():\n",
    "        print(x)\n",
    "    return inner_function()\n",
    "\n",
    "outer_function(value)\n",
    "\n"
   ]
  },
  {
   "cell_type": "code",
   "execution_count": 10,
   "metadata": {},
   "outputs": [
    {
     "name": "stdout",
     "output_type": "stream",
     "text": [
      "Hello world\n"
     ]
    }
   ],
   "source": [
    "def outer_function(fun):\n",
    "    \n",
    "    def inner_function():\n",
    "        x =fun()\n",
    "    return inner_function()\n",
    "\n",
    "@outer_function\n",
    "def hello():\n",
    "    print(\"Hello world\")\n"
   ]
  },
  {
   "cell_type": "code",
   "execution_count": 12,
   "metadata": {},
   "outputs": [
    {
     "data": {
      "text/plain": [
       "'hellow world'"
      ]
     },
     "execution_count": 12,
     "metadata": {},
     "output_type": "execute_result"
    }
   ],
   "source": [
    "def strings(function):\n",
    "    def wrapper():\n",
    "        fun = function()\n",
    "        x = fun.lower()\n",
    "        return x\n",
    "    return wrapper\n",
    "\n",
    "@strings\n",
    "def info():\n",
    "    return 'Hellow World'\n",
    "\n",
    "info()\n"
   ]
  },
  {
   "cell_type": "code",
   "execution_count": null,
   "metadata": {},
   "outputs": [],
   "source": []
  }
 ],
 "metadata": {
  "kernelspec": {
   "display_name": "Python 3",
   "language": "python",
   "name": "python3"
  },
  "language_info": {
   "codemirror_mode": {
    "name": "ipython",
    "version": 3
   },
   "file_extension": ".py",
   "mimetype": "text/x-python",
   "name": "python",
   "nbconvert_exporter": "python",
   "pygments_lexer": "ipython3",
   "version": "3.7.1"
  }
 },
 "nbformat": 4,
 "nbformat_minor": 2
}
